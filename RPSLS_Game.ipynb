{
  "nbformat": 4,
  "nbformat_minor": 0,
  "metadata": {
    "colab": {
      "name": "RPSLS_Game.ipynb",
      "provenance": [],
      "collapsed_sections": []
    },
    "kernelspec": {
      "display_name": "Python 3",
      "name": "python3"
    },
    "language_info": {
      "name": "python"
    }
  },
  "cells": [
    {
      "cell_type": "markdown",
      "metadata": {
        "id": "nDBQViXENx4e"
      },
      "source": [
        "**IMPORTING THE REQUIRED LIBRARIES**"
      ]
    },
    {
      "cell_type": "code",
      "metadata": {
        "id": "9l6gTxD8mG1b"
      },
      "source": [
        "import random\n",
        "import os\n",
        "import time"
      ],
      "execution_count": 1,
      "outputs": []
    },
    {
      "cell_type": "code",
      "metadata": {
        "id": "S4XLhQEcnA2d"
      },
      "source": [
        "def clear():\n",
        "  os.system(\"clear\")"
      ],
      "execution_count": 2,
      "outputs": []
    },
    {
      "cell_type": "markdown",
      "metadata": {
        "id": "Ot_mPdtDwFHk"
      },
      "source": [
        "**IN CASE PLAYER DONT KNOW ABOUT THE GAME**\n",
        "\n",
        "**SET OF STANDARD'S FOR THE GAME (*Rock-Paper-Scissors-Lizard-Spock*)**"
      ]
    },
    {
      "cell_type": "code",
      "metadata": {
        "id": "2Uv-sV6knA-z"
      },
      "source": [
        "def rpsls_standards():\n",
        "  print()\n",
        "  print(\"STANDARD'S OF THE GAME:\")\n",
        "  print()\n",
        "  print(\"Scissors cuts Paper\")\n",
        "  print(\"Paper covers Rock\")\n",
        "  print(\"Rock crushes Lizard\")\n",
        "  print(\"Lizard poisons Spock\")\n",
        "  print(\"Spock smashes Scissors\")\n",
        "  print(\"Scissors decapitates Lizard\")\n",
        "  print(\"Lizard Eats Paper\")\n",
        "  print(\"Paper disproves Rock\")\n",
        "  print(\"Spock vaporize Rock\")\n",
        "  print(\"Rock crushes Scissors\")\n"
      ],
      "execution_count": 3,
      "outputs": []
    },
    {
      "cell_type": "markdown",
      "metadata": {
        "id": "SLY3x6O0_QlU"
      },
      "source": [
        "**THE COMPLET GAME OF (*Rock-Paper-Scissors-Lizard-Spock*)**"
      ]
    },
    {
      "cell_type": "code",
      "metadata": {
        "id": "jHNLZpwVnBB9"
      },
      "source": [
        "def rpsls():\n",
        "  \n",
        "  global rpsls_table\n",
        "  global game_track\n",
        "  global name\n",
        "\n",
        "  while True:\n",
        "    print(\"-------------------------------------------------\") \n",
        "    print(\"\\t\\tMenu\")\n",
        "    print(\"-----------------------------------------------------\")\n",
        "    print(\"Enter\\\"HELP\\\"for instructions\")\n",
        "    print(\"Enter\\\"Rock\\\",\\\"Paper\\\",\\\"Scissors\\\",\\\"Lizard\\\",\\\"Spock\\\"to play\")\n",
        "    print(\"Enter\\\"EXIt\\\" to quit\")\n",
        "    print(\"---------------------------------------------------\")\n",
        "  \n",
        "    print()\n",
        "\n",
        "    ##PLAYER INPUT\n",
        "\n",
        "    ip = input(\"Enter your choice : \") \n",
        "    if ip.lower() == \"help\":\n",
        "      clear()\n",
        "      rpsls_standards()\n",
        "      continue\n",
        "    elif ip.lower() == \"exit\":\n",
        "      clear()\n",
        "      break\n",
        "    elif ip.lower() == \"rock\":\n",
        "      player_move = 0\n",
        "    elif ip.lower() == \"paper\":\n",
        "      player_move = 1\n",
        "    elif ip.lower() == \"scissor\":\n",
        "      player_move = 2\n",
        "    elif ip.lower() == \"lizard\":\n",
        "      player_move = 3\n",
        "    elif ip.lower() == \"spock\":\n",
        "      player_move = 4\n",
        "    else:\n",
        "      clear()\n",
        "      print(\"wrong input!!\")\n",
        "      rpsls_standards()\n",
        "      continue\n",
        "\n",
        "\n",
        "    print(\"Computer is Choosing....\") \n",
        "    comp_move = random.randint(0,4) #COMPUTER CHOOSES RANDOMLY\n",
        "    print()\n",
        "    time.sleep(2)\n",
        "\n",
        "    print(\"computer chooses\",game_track[comp_move].upper())\n",
        "\n",
        "    winner = rpsls_table[player_move][comp_move]\n",
        "    print()\n",
        "    if winner == player_move:\n",
        "      print(name,\"HURRAY....YOU WON!!\")\n",
        "    elif winner == comp_move:\n",
        "      print(\"COMPUTER WON!!\")    \n",
        "    else:\n",
        "      print(\"TIE\")\n",
        "      print()\n",
        "      time.sleep(2) #wait for 1 sec before a new game starts\n",
        "      clear()\n",
        "\n",
        "#THE MAIN FUNCTION\n",
        "if __name__ == '__main__': \n",
        "  game_track = {0:\"rock\", 1:\"paper\", 2:\"scissors\", 3:\"lizard\", 4:\"spock\"}   #THE MAPPING BETWEEN MOVES AND NUMBERS  \n",
        "\n",
        "  #WIN/LOOSE MATRIX FOR Rock-Paper-Scissors-Lizard-Spock\n",
        "  rpsls_table =[[-1,1,0,0,4],[1,-1,2,3,1],[0,2,-1,2,4],[0,3,2,-1,3],[4,1,4,3,-1]]\n",
        "  name = input(\"Enter your name: \")\n",
        "  #THE GAME LOOP\n",
        "  while True:\n",
        "    print(\"Let's Play\",name,\"!!!!!\") \n",
        "    print(\"Enter 1 to Begin\")\n",
        "    print(\"Enter 2 to quit\")\n",
        "    print()\n",
        "\n",
        "    #TRY BLOCK TO HANDEL THE PLAYER CHOICE\n",
        "    try:\n",
        "      choice =int(input(\"Enter your choice=\"))\n",
        "    except ValueError:\n",
        "      clear()\n",
        "      print(\"Wrong Choice\")\n",
        "      continue\n",
        "\n",
        "    #PLAY THE GAME\n",
        "    if choice == 1:\n",
        "      rpsls()\n",
        "\n",
        "    #QUIT THE GAME LOOP\n",
        "    elif choice == 2:\n",
        "      break  \n",
        "\n",
        "    #OTHER WRONG INPUT\n",
        "    else:\n",
        "      clear()\n",
        "      print(\"Wrong choice!! Read the Instructions carefully.\")\n",
        "\n"
      ],
      "execution_count": null,
      "outputs": []
    }
  ]
}